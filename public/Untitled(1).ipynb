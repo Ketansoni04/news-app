{
 "cells": [
  {
   "cell_type": "code",
   "execution_count": 10,
   "id": "5910408a-1ce9-44e7-a2ca-f89885be5893",
   "metadata": {},
   "outputs": [],
   "source": [
    "import pandas as pd\n",
    "import numpy as np\n",
    "import matplotlib.pyplot as plt\n",
    "\n",
    "%matplotlib inline \n",
    "\n",
    "from urllib.request import urlopen \n",
    "from bs4 import BeautifulSoup\n",
    "import re"
   ]
  },
  {
   "cell_type": "code",
   "execution_count": 11,
   "id": "976dcc78-3952-4ddd-92ce-4393614ea4fd",
   "metadata": {},
   "outputs": [],
   "source": [
    "url=\"https://www.pmindia.gov.in/en/tag/pmo/\"\n",
    "html=urlopen(url)"
   ]
  },
  {
   "cell_type": "code",
   "execution_count": 12,
   "id": "d90db208-568f-4baa-a9b3-bcac69c016cd",
   "metadata": {},
   "outputs": [],
   "source": [
    "soup = BeautifulSoup(html)"
   ]
  },
  {
   "cell_type": "code",
   "execution_count": 26,
   "id": "cd52a857-307f-4a0b-a230-f36f60fcba9f",
   "metadata": {},
   "outputs": [
    {
     "name": "stdout",
     "output_type": "stream",
     "text": [
      "['https://www.pmindia.gov.in/en/news_updates/pm-meets-officials-from-pmo-and-spg/?tag_term=pmo&comment=disable', 'https://www.pmindia.gov.in/en/news_updates/pm-addresses-district-collectors-from-across-the-country-via-video-conference-on-the-theme-of-new-india-manthan/?tag_term=pmo&comment=disable', 'https://www.pmindia.gov.in/en/news_updates/pms-eighteenth-interaction-through-pragati/?tag_term=pmo&comment=disable', 'https://www.pmindia.gov.in/en/news_updates/pmo-officials-take-initiative-to-train-staff-for-mobile-banking-and-cashless-transactions/?tag_term=pmo&comment=disable', 'https://www.pmindia.gov.in/en/news_updates/efforts-towards-cleanliness-in-pmo-under-swachh-bharat-abhiyan/?tag_term=pmo&comment=disable', 'https://www.pmindia.gov.in/en/news_updates/dr-rafael-reif-president-of-mit-calls-on-pm/?tag_term=pmo&comment=disable', 'https://www.pmindia.gov.in/en/news_updates/pm-meets-entire-pmo-family-at-rcr-lawns/?tag_term=pmo&comment=disable', 'https://www.pmindia.gov.in/en/news_updates/pm-interacts-with-officers-of-pmo-on-the-occasion-of-first-anniversary-of-his-government/?tag_term=pmo&comment=disable', 'https://www.pmindia.gov.in/en/news_updates/dr-jitendra-singh-administers-vigilance-awareness-pledge-in-pmo/?tag_term=pmo&comment=disable']\n"
     ]
    }
   ],
   "source": [
    "news_links = []\n",
    "fullnews = soup.find_all('h3')\n",
    "for news in fullnews:\n",
    "    news_list = news.find_all('a',href=True)\n",
    "    for link in news_list:\n",
    "         news_links.append(link.get('href'))\n",
    "print(news_links)\n",
    "def showpage():\n",
    "    return render_templete(\"index.html\",news_links=news_links)\n",
    "        "
   ]
  },
  {
   "cell_type": "code",
   "execution_count": null,
   "id": "dfd95c98-90d4-49c1-9470-6e8fc1610039",
   "metadata": {},
   "outputs": [],
   "source": []
  }
 ],
 "metadata": {
  "kernelspec": {
   "display_name": "Python 3 (ipykernel)",
   "language": "python",
   "name": "python3"
  },
  "language_info": {
   "codemirror_mode": {
    "name": "ipython",
    "version": 3
   },
   "file_extension": ".py",
   "mimetype": "text/x-python",
   "name": "python",
   "nbconvert_exporter": "python",
   "pygments_lexer": "ipython3",
   "version": "3.11.0"
  }
 },
 "nbformat": 4,
 "nbformat_minor": 5
}
